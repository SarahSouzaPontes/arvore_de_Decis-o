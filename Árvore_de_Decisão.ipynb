{
  "nbformat": 4,
  "nbformat_minor": 0,
  "metadata": {
    "colab": {
      "provenance": [],
      "authorship_tag": "ABX9TyMydVLU67yiJKzbPAeen4zB",
      "include_colab_link": true
    },
    "kernelspec": {
      "name": "python3",
      "display_name": "Python 3"
    },
    "language_info": {
      "name": "python"
    }
  },
  "cells": [
    {
      "cell_type": "markdown",
      "metadata": {
        "id": "view-in-github",
        "colab_type": "text"
      },
      "source": [
        "<a href=\"https://colab.research.google.com/github/SarahSouzaPontes/arvore_de_Decis-o/blob/main/%C3%81rvore_de_Decis%C3%A3o.ipynb\" target=\"_parent\"><img src=\"https://colab.research.google.com/assets/colab-badge.svg\" alt=\"Open In Colab\"/></a>"
      ]
    },
    {
      "cell_type": "code",
      "execution_count": 1,
      "metadata": {
        "id": "-dk0NtVvQtdR"
      },
      "outputs": [],
      "source": [
        "import numpy as np\n",
        "import pandas as pd\n",
        "import matplotlib.pyplot as plt"
      ]
    },
    {
      "cell_type": "code",
      "source": [
        "from google.colab import drive\n",
        "drive.mount('/content/drive')"
      ],
      "metadata": {
        "colab": {
          "base_uri": "https://localhost:8080/"
        },
        "id": "mMSSfRhFQwK6",
        "outputId": "ab1a0f52-755d-472e-b2e6-e16393d49c0b"
      },
      "execution_count": 2,
      "outputs": [
        {
          "output_type": "stream",
          "name": "stdout",
          "text": [
            "Mounted at /content/drive\n"
          ]
        }
      ]
    },
    {
      "cell_type": "code",
      "source": [
        "#leitura dos dados\n",
        "df = pd.read_csv('dt.csv')\n",
        "df"
      ],
      "metadata": {
        "colab": {
          "base_uri": "https://localhost:8080/",
          "height": 423
        },
        "id": "KKjGwotJQx6u",
        "outputId": "fe3f814e-4152-4d37-b911-ce8c4e81f869"
      },
      "execution_count": 3,
      "outputs": [
        {
          "output_type": "execute_result",
          "data": {
            "text/plain": [
              "      Age  NumOfProducts  IsActiveMember  Exited\n",
              "0      42              1               1       1\n",
              "1      41              1               1       0\n",
              "2      42              3               0       1\n",
              "3      39              2               0       0\n",
              "4      43              1               1       0\n",
              "...   ...            ...             ...     ...\n",
              "9995   39              2               0       0\n",
              "9996   35              1               1       0\n",
              "9997   36              1               1       1\n",
              "9998   42              2               0       1\n",
              "9999   28              1               0       0\n",
              "\n",
              "[10000 rows x 4 columns]"
            ],
            "text/html": [
              "\n",
              "  <div id=\"df-d8b01017-02fb-43d5-b2f5-facf03746070\">\n",
              "    <div class=\"colab-df-container\">\n",
              "      <div>\n",
              "<style scoped>\n",
              "    .dataframe tbody tr th:only-of-type {\n",
              "        vertical-align: middle;\n",
              "    }\n",
              "\n",
              "    .dataframe tbody tr th {\n",
              "        vertical-align: top;\n",
              "    }\n",
              "\n",
              "    .dataframe thead th {\n",
              "        text-align: right;\n",
              "    }\n",
              "</style>\n",
              "<table border=\"1\" class=\"dataframe\">\n",
              "  <thead>\n",
              "    <tr style=\"text-align: right;\">\n",
              "      <th></th>\n",
              "      <th>Age</th>\n",
              "      <th>NumOfProducts</th>\n",
              "      <th>IsActiveMember</th>\n",
              "      <th>Exited</th>\n",
              "    </tr>\n",
              "  </thead>\n",
              "  <tbody>\n",
              "    <tr>\n",
              "      <th>0</th>\n",
              "      <td>42</td>\n",
              "      <td>1</td>\n",
              "      <td>1</td>\n",
              "      <td>1</td>\n",
              "    </tr>\n",
              "    <tr>\n",
              "      <th>1</th>\n",
              "      <td>41</td>\n",
              "      <td>1</td>\n",
              "      <td>1</td>\n",
              "      <td>0</td>\n",
              "    </tr>\n",
              "    <tr>\n",
              "      <th>2</th>\n",
              "      <td>42</td>\n",
              "      <td>3</td>\n",
              "      <td>0</td>\n",
              "      <td>1</td>\n",
              "    </tr>\n",
              "    <tr>\n",
              "      <th>3</th>\n",
              "      <td>39</td>\n",
              "      <td>2</td>\n",
              "      <td>0</td>\n",
              "      <td>0</td>\n",
              "    </tr>\n",
              "    <tr>\n",
              "      <th>4</th>\n",
              "      <td>43</td>\n",
              "      <td>1</td>\n",
              "      <td>1</td>\n",
              "      <td>0</td>\n",
              "    </tr>\n",
              "    <tr>\n",
              "      <th>...</th>\n",
              "      <td>...</td>\n",
              "      <td>...</td>\n",
              "      <td>...</td>\n",
              "      <td>...</td>\n",
              "    </tr>\n",
              "    <tr>\n",
              "      <th>9995</th>\n",
              "      <td>39</td>\n",
              "      <td>2</td>\n",
              "      <td>0</td>\n",
              "      <td>0</td>\n",
              "    </tr>\n",
              "    <tr>\n",
              "      <th>9996</th>\n",
              "      <td>35</td>\n",
              "      <td>1</td>\n",
              "      <td>1</td>\n",
              "      <td>0</td>\n",
              "    </tr>\n",
              "    <tr>\n",
              "      <th>9997</th>\n",
              "      <td>36</td>\n",
              "      <td>1</td>\n",
              "      <td>1</td>\n",
              "      <td>1</td>\n",
              "    </tr>\n",
              "    <tr>\n",
              "      <th>9998</th>\n",
              "      <td>42</td>\n",
              "      <td>2</td>\n",
              "      <td>0</td>\n",
              "      <td>1</td>\n",
              "    </tr>\n",
              "    <tr>\n",
              "      <th>9999</th>\n",
              "      <td>28</td>\n",
              "      <td>1</td>\n",
              "      <td>0</td>\n",
              "      <td>0</td>\n",
              "    </tr>\n",
              "  </tbody>\n",
              "</table>\n",
              "<p>10000 rows × 4 columns</p>\n",
              "</div>\n",
              "      <button class=\"colab-df-convert\" onclick=\"convertToInteractive('df-d8b01017-02fb-43d5-b2f5-facf03746070')\"\n",
              "              title=\"Convert this dataframe to an interactive table.\"\n",
              "              style=\"display:none;\">\n",
              "        \n",
              "  <svg xmlns=\"http://www.w3.org/2000/svg\" height=\"24px\"viewBox=\"0 0 24 24\"\n",
              "       width=\"24px\">\n",
              "    <path d=\"M0 0h24v24H0V0z\" fill=\"none\"/>\n",
              "    <path d=\"M18.56 5.44l.94 2.06.94-2.06 2.06-.94-2.06-.94-.94-2.06-.94 2.06-2.06.94zm-11 1L8.5 8.5l.94-2.06 2.06-.94-2.06-.94L8.5 2.5l-.94 2.06-2.06.94zm10 10l.94 2.06.94-2.06 2.06-.94-2.06-.94-.94-2.06-.94 2.06-2.06.94z\"/><path d=\"M17.41 7.96l-1.37-1.37c-.4-.4-.92-.59-1.43-.59-.52 0-1.04.2-1.43.59L10.3 9.45l-7.72 7.72c-.78.78-.78 2.05 0 2.83L4 21.41c.39.39.9.59 1.41.59.51 0 1.02-.2 1.41-.59l7.78-7.78 2.81-2.81c.8-.78.8-2.07 0-2.86zM5.41 20L4 18.59l7.72-7.72 1.47 1.35L5.41 20z\"/>\n",
              "  </svg>\n",
              "      </button>\n",
              "      \n",
              "  <style>\n",
              "    .colab-df-container {\n",
              "      display:flex;\n",
              "      flex-wrap:wrap;\n",
              "      gap: 12px;\n",
              "    }\n",
              "\n",
              "    .colab-df-convert {\n",
              "      background-color: #E8F0FE;\n",
              "      border: none;\n",
              "      border-radius: 50%;\n",
              "      cursor: pointer;\n",
              "      display: none;\n",
              "      fill: #1967D2;\n",
              "      height: 32px;\n",
              "      padding: 0 0 0 0;\n",
              "      width: 32px;\n",
              "    }\n",
              "\n",
              "    .colab-df-convert:hover {\n",
              "      background-color: #E2EBFA;\n",
              "      box-shadow: 0px 1px 2px rgba(60, 64, 67, 0.3), 0px 1px 3px 1px rgba(60, 64, 67, 0.15);\n",
              "      fill: #174EA6;\n",
              "    }\n",
              "\n",
              "    [theme=dark] .colab-df-convert {\n",
              "      background-color: #3B4455;\n",
              "      fill: #D2E3FC;\n",
              "    }\n",
              "\n",
              "    [theme=dark] .colab-df-convert:hover {\n",
              "      background-color: #434B5C;\n",
              "      box-shadow: 0px 1px 3px 1px rgba(0, 0, 0, 0.15);\n",
              "      filter: drop-shadow(0px 1px 2px rgba(0, 0, 0, 0.3));\n",
              "      fill: #FFFFFF;\n",
              "    }\n",
              "  </style>\n",
              "\n",
              "      <script>\n",
              "        const buttonEl =\n",
              "          document.querySelector('#df-d8b01017-02fb-43d5-b2f5-facf03746070 button.colab-df-convert');\n",
              "        buttonEl.style.display =\n",
              "          google.colab.kernel.accessAllowed ? 'block' : 'none';\n",
              "\n",
              "        async function convertToInteractive(key) {\n",
              "          const element = document.querySelector('#df-d8b01017-02fb-43d5-b2f5-facf03746070');\n",
              "          const dataTable =\n",
              "            await google.colab.kernel.invokeFunction('convertToInteractive',\n",
              "                                                     [key], {});\n",
              "          if (!dataTable) return;\n",
              "\n",
              "          const docLinkHtml = 'Like what you see? Visit the ' +\n",
              "            '<a target=\"_blank\" href=https://colab.research.google.com/notebooks/data_table.ipynb>data table notebook</a>'\n",
              "            + ' to learn more about interactive tables.';\n",
              "          element.innerHTML = '';\n",
              "          dataTable['output_type'] = 'display_data';\n",
              "          await google.colab.output.renderOutput(dataTable, element);\n",
              "          const docLink = document.createElement('div');\n",
              "          docLink.innerHTML = docLinkHtml;\n",
              "          element.appendChild(docLink);\n",
              "        }\n",
              "      </script>\n",
              "    </div>\n",
              "  </div>\n",
              "  "
            ]
          },
          "metadata": {},
          "execution_count": 3
        }
      ]
    },
    {
      "cell_type": "code",
      "source": [
        "#separacao de preditiva e resposta\n",
        "X = df.drop('Exited',axis=1)\n",
        "y = df.Exited\n",
        "\n",
        "X"
      ],
      "metadata": {
        "colab": {
          "base_uri": "https://localhost:8080/",
          "height": 423
        },
        "id": "N9OeJJ2RQyw5",
        "outputId": "0f9db1e2-a84b-48bc-a831-b99571957bb2"
      },
      "execution_count": 4,
      "outputs": [
        {
          "output_type": "execute_result",
          "data": {
            "text/plain": [
              "      Age  NumOfProducts  IsActiveMember\n",
              "0      42              1               1\n",
              "1      41              1               1\n",
              "2      42              3               0\n",
              "3      39              2               0\n",
              "4      43              1               1\n",
              "...   ...            ...             ...\n",
              "9995   39              2               0\n",
              "9996   35              1               1\n",
              "9997   36              1               1\n",
              "9998   42              2               0\n",
              "9999   28              1               0\n",
              "\n",
              "[10000 rows x 3 columns]"
            ],
            "text/html": [
              "\n",
              "  <div id=\"df-4d3f9f5d-73d9-4c83-a655-e3e9553abaac\">\n",
              "    <div class=\"colab-df-container\">\n",
              "      <div>\n",
              "<style scoped>\n",
              "    .dataframe tbody tr th:only-of-type {\n",
              "        vertical-align: middle;\n",
              "    }\n",
              "\n",
              "    .dataframe tbody tr th {\n",
              "        vertical-align: top;\n",
              "    }\n",
              "\n",
              "    .dataframe thead th {\n",
              "        text-align: right;\n",
              "    }\n",
              "</style>\n",
              "<table border=\"1\" class=\"dataframe\">\n",
              "  <thead>\n",
              "    <tr style=\"text-align: right;\">\n",
              "      <th></th>\n",
              "      <th>Age</th>\n",
              "      <th>NumOfProducts</th>\n",
              "      <th>IsActiveMember</th>\n",
              "    </tr>\n",
              "  </thead>\n",
              "  <tbody>\n",
              "    <tr>\n",
              "      <th>0</th>\n",
              "      <td>42</td>\n",
              "      <td>1</td>\n",
              "      <td>1</td>\n",
              "    </tr>\n",
              "    <tr>\n",
              "      <th>1</th>\n",
              "      <td>41</td>\n",
              "      <td>1</td>\n",
              "      <td>1</td>\n",
              "    </tr>\n",
              "    <tr>\n",
              "      <th>2</th>\n",
              "      <td>42</td>\n",
              "      <td>3</td>\n",
              "      <td>0</td>\n",
              "    </tr>\n",
              "    <tr>\n",
              "      <th>3</th>\n",
              "      <td>39</td>\n",
              "      <td>2</td>\n",
              "      <td>0</td>\n",
              "    </tr>\n",
              "    <tr>\n",
              "      <th>4</th>\n",
              "      <td>43</td>\n",
              "      <td>1</td>\n",
              "      <td>1</td>\n",
              "    </tr>\n",
              "    <tr>\n",
              "      <th>...</th>\n",
              "      <td>...</td>\n",
              "      <td>...</td>\n",
              "      <td>...</td>\n",
              "    </tr>\n",
              "    <tr>\n",
              "      <th>9995</th>\n",
              "      <td>39</td>\n",
              "      <td>2</td>\n",
              "      <td>0</td>\n",
              "    </tr>\n",
              "    <tr>\n",
              "      <th>9996</th>\n",
              "      <td>35</td>\n",
              "      <td>1</td>\n",
              "      <td>1</td>\n",
              "    </tr>\n",
              "    <tr>\n",
              "      <th>9997</th>\n",
              "      <td>36</td>\n",
              "      <td>1</td>\n",
              "      <td>1</td>\n",
              "    </tr>\n",
              "    <tr>\n",
              "      <th>9998</th>\n",
              "      <td>42</td>\n",
              "      <td>2</td>\n",
              "      <td>0</td>\n",
              "    </tr>\n",
              "    <tr>\n",
              "      <th>9999</th>\n",
              "      <td>28</td>\n",
              "      <td>1</td>\n",
              "      <td>0</td>\n",
              "    </tr>\n",
              "  </tbody>\n",
              "</table>\n",
              "<p>10000 rows × 3 columns</p>\n",
              "</div>\n",
              "      <button class=\"colab-df-convert\" onclick=\"convertToInteractive('df-4d3f9f5d-73d9-4c83-a655-e3e9553abaac')\"\n",
              "              title=\"Convert this dataframe to an interactive table.\"\n",
              "              style=\"display:none;\">\n",
              "        \n",
              "  <svg xmlns=\"http://www.w3.org/2000/svg\" height=\"24px\"viewBox=\"0 0 24 24\"\n",
              "       width=\"24px\">\n",
              "    <path d=\"M0 0h24v24H0V0z\" fill=\"none\"/>\n",
              "    <path d=\"M18.56 5.44l.94 2.06.94-2.06 2.06-.94-2.06-.94-.94-2.06-.94 2.06-2.06.94zm-11 1L8.5 8.5l.94-2.06 2.06-.94-2.06-.94L8.5 2.5l-.94 2.06-2.06.94zm10 10l.94 2.06.94-2.06 2.06-.94-2.06-.94-.94-2.06-.94 2.06-2.06.94z\"/><path d=\"M17.41 7.96l-1.37-1.37c-.4-.4-.92-.59-1.43-.59-.52 0-1.04.2-1.43.59L10.3 9.45l-7.72 7.72c-.78.78-.78 2.05 0 2.83L4 21.41c.39.39.9.59 1.41.59.51 0 1.02-.2 1.41-.59l7.78-7.78 2.81-2.81c.8-.78.8-2.07 0-2.86zM5.41 20L4 18.59l7.72-7.72 1.47 1.35L5.41 20z\"/>\n",
              "  </svg>\n",
              "      </button>\n",
              "      \n",
              "  <style>\n",
              "    .colab-df-container {\n",
              "      display:flex;\n",
              "      flex-wrap:wrap;\n",
              "      gap: 12px;\n",
              "    }\n",
              "\n",
              "    .colab-df-convert {\n",
              "      background-color: #E8F0FE;\n",
              "      border: none;\n",
              "      border-radius: 50%;\n",
              "      cursor: pointer;\n",
              "      display: none;\n",
              "      fill: #1967D2;\n",
              "      height: 32px;\n",
              "      padding: 0 0 0 0;\n",
              "      width: 32px;\n",
              "    }\n",
              "\n",
              "    .colab-df-convert:hover {\n",
              "      background-color: #E2EBFA;\n",
              "      box-shadow: 0px 1px 2px rgba(60, 64, 67, 0.3), 0px 1px 3px 1px rgba(60, 64, 67, 0.15);\n",
              "      fill: #174EA6;\n",
              "    }\n",
              "\n",
              "    [theme=dark] .colab-df-convert {\n",
              "      background-color: #3B4455;\n",
              "      fill: #D2E3FC;\n",
              "    }\n",
              "\n",
              "    [theme=dark] .colab-df-convert:hover {\n",
              "      background-color: #434B5C;\n",
              "      box-shadow: 0px 1px 3px 1px rgba(0, 0, 0, 0.15);\n",
              "      filter: drop-shadow(0px 1px 2px rgba(0, 0, 0, 0.3));\n",
              "      fill: #FFFFFF;\n",
              "    }\n",
              "  </style>\n",
              "\n",
              "      <script>\n",
              "        const buttonEl =\n",
              "          document.querySelector('#df-4d3f9f5d-73d9-4c83-a655-e3e9553abaac button.colab-df-convert');\n",
              "        buttonEl.style.display =\n",
              "          google.colab.kernel.accessAllowed ? 'block' : 'none';\n",
              "\n",
              "        async function convertToInteractive(key) {\n",
              "          const element = document.querySelector('#df-4d3f9f5d-73d9-4c83-a655-e3e9553abaac');\n",
              "          const dataTable =\n",
              "            await google.colab.kernel.invokeFunction('convertToInteractive',\n",
              "                                                     [key], {});\n",
              "          if (!dataTable) return;\n",
              "\n",
              "          const docLinkHtml = 'Like what you see? Visit the ' +\n",
              "            '<a target=\"_blank\" href=https://colab.research.google.com/notebooks/data_table.ipynb>data table notebook</a>'\n",
              "            + ' to learn more about interactive tables.';\n",
              "          element.innerHTML = '';\n",
              "          dataTable['output_type'] = 'display_data';\n",
              "          await google.colab.output.renderOutput(dataTable, element);\n",
              "          const docLink = document.createElement('div');\n",
              "          docLink.innerHTML = docLinkHtml;\n",
              "          element.appendChild(docLink);\n",
              "        }\n",
              "      </script>\n",
              "    </div>\n",
              "  </div>\n",
              "  "
            ]
          },
          "metadata": {},
          "execution_count": 4
        }
      ]
    },
    {
      "cell_type": "code",
      "source": [
        "y"
      ],
      "metadata": {
        "colab": {
          "base_uri": "https://localhost:8080/"
        },
        "id": "LUhCyYyzQ1PX",
        "outputId": "4bdfac68-a772-4514-e6b7-5478722b4641"
      },
      "execution_count": 5,
      "outputs": [
        {
          "output_type": "execute_result",
          "data": {
            "text/plain": [
              "0       1\n",
              "1       0\n",
              "2       1\n",
              "3       0\n",
              "4       0\n",
              "       ..\n",
              "9995    0\n",
              "9996    0\n",
              "9997    1\n",
              "9998    1\n",
              "9999    0\n",
              "Name: Exited, Length: 10000, dtype: int64"
            ]
          },
          "metadata": {},
          "execution_count": 5
        }
      ]
    },
    {
      "cell_type": "code",
      "source": [
        "#analise preliminar\n",
        "\n",
        "mi = X.Age.min()\n",
        "ma = X.Age.max()\n",
        "\n",
        "bins = np.linspace(mi,ma,20)\n",
        "\n",
        "plt.figure(figsize=(15,5))\n",
        "plt.hist( X.loc[y==0].Age, rwidth=0.80, bins=bins, color='b', alpha=.3, density=True, label='Clientes fieis' )\n",
        "plt.hist( X.loc[y==1].Age, rwidth=0.80, bins=bins, color='r', alpha=.3, density=True, label='Abandonam' )\n",
        "\n",
        "plt.legend()"
      ],
      "metadata": {
        "colab": {
          "base_uri": "https://localhost:8080/",
          "height": 252
        },
        "id": "6uin9pFfQ5eE",
        "outputId": "67be6c85-3461-4f3a-c10f-f3c9eed72bcf"
      },
      "execution_count": 6,
      "outputs": [
        {
          "output_type": "execute_result",
          "data": {
            "text/plain": [
              "<matplotlib.legend.Legend at 0x7f213f969640>"
            ]
          },
          "metadata": {},
          "execution_count": 6
        },
        {
          "output_type": "display_data",
          "data": {
            "text/plain": [
              "<Figure size 1080x360 with 1 Axes>"
            ],
            "image/png": "[encoded data removed]"
          },
          "metadata": {
            "needs_background": "light"
          }
        }
      ]
    },
    {
      "cell_type": "code",
      "source": [
        "y.mean()"
      ],
      "metadata": {
        "colab": {
          "base_uri": "https://localhost:8080/"
        },
        "id": "BvjPvovZQ9B-",
        "outputId": "a9cfde83-5b7b-4e18-a653-b6531d6e0fc2"
      },
      "execution_count": 7,
      "outputs": [
        {
          "output_type": "execute_result",
          "data": {
            "text/plain": [
              "0.2037"
            ]
          },
          "metadata": {},
          "execution_count": 7
        }
      ]
    },
    {
      "cell_type": "code",
      "source": [
        "y.loc[ X.Age>=40 ].mean()"
      ],
      "metadata": {
        "colab": {
          "base_uri": "https://localhost:8080/"
        },
        "id": "3AGIKXC2Q97I",
        "outputId": "1483cf07-d58d-42a4-8cbe-f6a2a33662c0"
      },
      "execution_count": 8,
      "outputs": [
        {
          "output_type": "execute_result",
          "data": {
            "text/plain": [
              "0.3588337901819088"
            ]
          },
          "metadata": {},
          "execution_count": 8
        }
      ]
    },
    {
      "cell_type": "code",
      "source": [
        "y.loc[ X.Age<40 ].mean()"
      ],
      "metadata": {
        "colab": {
          "base_uri": "https://localhost:8080/"
        },
        "id": "CfoHTL6RRAqB",
        "outputId": "1e7fcea7-328a-4ee6-e878-488ed606f435"
      },
      "execution_count": 9,
      "outputs": [
        {
          "output_type": "execute_result",
          "data": {
            "text/plain": [
              "0.09971605144479706"
            ]
          },
          "metadata": {},
          "execution_count": 9
        }
      ]
    },
    {
      "cell_type": "code",
      "source": [
        "mi = X.NumOfProducts.min()\n",
        "ma = X.NumOfProducts.max()\n",
        "\n",
        "bins = np.linspace(mi,ma,20)\n",
        "\n",
        "plt.figure(figsize=(15,5))\n",
        "plt.hist( X.loc[y==0].NumOfProducts, rwidth=0.80, bins=bins, color='b', alpha=.3, density=True, label='Clientes fieis' )\n",
        "plt.hist( X.loc[y==1].NumOfProducts, rwidth=0.80, bins=bins, color='r', alpha=.3, density=True, label='Abandonam' )\n",
        "\n",
        "plt.legend()\n",
        "\n",
        "#pessoas com 2 produtos deixam menos a empresa independente da idade"
      ],
      "metadata": {
        "colab": {
          "base_uri": "https://localhost:8080/",
          "height": 256
        },
        "id": "LcOhyJ5JRFbN",
        "outputId": "e8ae4668-0433-490e-9a1e-ec33b78f8218"
      },
      "execution_count": 10,
      "outputs": [
        {
          "output_type": "execute_result",
          "data": {
            "text/plain": [
              "<matplotlib.legend.Legend at 0x7f213f880b20>"
            ]
          },
          "metadata": {},
          "execution_count": 10
        },
        {
          "output_type": "display_data",
          "data": {
            "text/plain": [
              "<Figure size 1080x360 with 1 Axes>"
            ],
            "image/png": "[encoded data removed]"
          },
          "metadata": {
            "needs_background": "light"
          }
        }
      ]
    },
    {
      "cell_type": "code",
      "source": [
        "mi = X.IsActiveMember.min()\n",
        "ma = X.IsActiveMember.max()\n",
        "\n",
        "bins = np.linspace(mi,ma,20)\n",
        "\n",
        "plt.figure(figsize=(15,5))\n",
        "plt.hist( X.loc[y==0].IsActiveMember, rwidth=0.80, bins=bins, color='b', alpha=.3, density=True, label='Clientes fieis' )\n",
        "plt.hist( X.loc[y==1].IsActiveMember, rwidth=0.80, bins=bins, color='r', alpha=.3, density=True, label='Abandonam' )\n",
        "\n",
        "plt.legend()\n",
        "#programa fidelidade, aqueles que não fazem parte abandonam mais a empresa"
      ],
      "metadata": {
        "colab": {
          "base_uri": "https://localhost:8080/",
          "height": 254
        },
        "id": "eap71UUxRGcP",
        "outputId": "a5ebf36e-4b56-4c26-e727-5b96b691b16e"
      },
      "execution_count": 11,
      "outputs": [
        {
          "output_type": "execute_result",
          "data": {
            "text/plain": [
              "<matplotlib.legend.Legend at 0x7f213f317490>"
            ]
          },
          "metadata": {},
          "execution_count": 11
        },
        {
          "output_type": "display_data",
          "data": {
            "text/plain": [
              "<Figure size 1080x360 with 1 Axes>"
            ],
            "image/png": "[encoded data removed]"
          },
          "metadata": {
            "needs_background": "light"
          }
        }
      ]
    },
    {
      "cell_type": "code",
      "source": [
        "import sklearn\n",
        "sklearn.__version__"
      ],
      "metadata": {
        "colab": {
          "base_uri": "https://localhost:8080/",
          "height": 36
        },
        "id": "ovPBLWpzRJA2",
        "outputId": "aa1155bd-6adf-40d4-d73d-1b458c70494d"
      },
      "execution_count": 12,
      "outputs": [
        {
          "output_type": "execute_result",
          "data": {
            "text/plain": [
              "'1.0.2'"
            ],
            "application/vnd.google.colaboratory.intrinsic+json": {
              "type": "string"
            }
          },
          "metadata": {},
          "execution_count": 12
        }
      ]
    },
    {
      "cell_type": "markdown",
      "source": [
        "Divisão de dados treino e teste\n",
        "out-of-sample => não há coluna de tempo."
      ],
      "metadata": {
        "id": "lBE6A1bQV2xr"
      }
    },
    {
      "cell_type": "code",
      "source": [
        "from sklearn.model_selection import train_test_split\n",
        "#preditivas de treino e teste, resposta treino e teste\n",
        "X_tr, X_ts, y_tr, y_ts = train_test_split(X,y, test_size=0.30, random_state=61658)"
      ],
      "metadata": {
        "id": "r_-ZPBusRLx0"
      },
      "execution_count": 13,
      "outputs": []
    },
    {
      "cell_type": "code",
      "source": [
        "X_tr"
      ],
      "metadata": {
        "colab": {
          "base_uri": "https://localhost:8080/",
          "height": 423
        },
        "id": "_hV8RCzBROwe",
        "outputId": "88dc070e-5495-4ec8-fb7e-fe3d566f15c3"
      },
      "execution_count": 14,
      "outputs": [
        {
          "output_type": "execute_result",
          "data": {
            "text/plain": [
              "      Age  NumOfProducts  IsActiveMember\n",
              "9057   33              2               1\n",
              "81     32              1               0\n",
              "3433   37              1               0\n",
              "1768   28              2               0\n",
              "1888   60              2               1\n",
              "...   ...            ...             ...\n",
              "4368   33              1               0\n",
              "9637   31              1               1\n",
              "8675   54              1               0\n",
              "8806   38              2               1\n",
              "3836   49              3               1\n",
              "\n",
              "[7000 rows x 3 columns]"
            ],
            "text/html": [
              "\n",
              "  <div id=\"df-59b07f04-4361-44e0-a159-347363ff9eab\">\n",
              "    <div class=\"colab-df-container\">\n",
              "      <div>\n",
              "<style scoped>\n",
              "    .dataframe tbody tr th:only-of-type {\n",
              "        vertical-align: middle;\n",
              "    }\n",
              "\n",
              "    .dataframe tbody tr th {\n",
              "        vertical-align: top;\n",
              "    }\n",
              "\n",
              "    .dataframe thead th {\n",
              "        text-align: right;\n",
              "    }\n",
              "</style>\n",
              "<table border=\"1\" class=\"dataframe\">\n",
              "  <thead>\n",
              "    <tr style=\"text-align: right;\">\n",
              "      <th></th>\n",
              "      <th>Age</th>\n",
              "      <th>NumOfProducts</th>\n",
              "      <th>IsActiveMember</th>\n",
              "    </tr>\n",
              "  </thead>\n",
              "  <tbody>\n",
              "    <tr>\n",
              "      <th>9057</th>\n",
              "      <td>33</td>\n",
              "      <td>2</td>\n",
              "      <td>1</td>\n",
              "    </tr>\n",
              "    <tr>\n",
              "      <th>81</th>\n",
              "      <td>32</td>\n",
              "      <td>1</td>\n",
              "      <td>0</td>\n",
              "    </tr>\n",
              "    <tr>\n",
              "      <th>3433</th>\n",
              "      <td>37</td>\n",
              "      <td>1</td>\n",
              "      <td>0</td>\n",
              "    </tr>\n",
              "    <tr>\n",
              "      <th>1768</th>\n",
              "      <td>28</td>\n",
              "      <td>2</td>\n",
              "      <td>0</td>\n",
              "    </tr>\n",
              "    <tr>\n",
              "      <th>1888</th>\n",
              "      <td>60</td>\n",
              "      <td>2</td>\n",
              "      <td>1</td>\n",
              "    </tr>\n",
              "    <tr>\n",
              "      <th>...</th>\n",
              "      <td>...</td>\n",
              "      <td>...</td>\n",
              "      <td>...</td>\n",
              "    </tr>\n",
              "    <tr>\n",
              "      <th>4368</th>\n",
              "      <td>33</td>\n",
              "      <td>1</td>\n",
              "      <td>0</td>\n",
              "    </tr>\n",
              "    <tr>\n",
              "      <th>9637</th>\n",
              "      <td>31</td>\n",
              "      <td>1</td>\n",
              "      <td>1</td>\n",
              "    </tr>\n",
              "    <tr>\n",
              "      <th>8675</th>\n",
              "      <td>54</td>\n",
              "      <td>1</td>\n",
              "      <td>0</td>\n",
              "    </tr>\n",
              "    <tr>\n",
              "      <th>8806</th>\n",
              "      <td>38</td>\n",
              "      <td>2</td>\n",
              "      <td>1</td>\n",
              "    </tr>\n",
              "    <tr>\n",
              "      <th>3836</th>\n",
              "      <td>49</td>\n",
              "      <td>3</td>\n",
              "      <td>1</td>\n",
              "    </tr>\n",
              "  </tbody>\n",
              "</table>\n",
              "<p>7000 rows × 3 columns</p>\n",
              "</div>\n",
              "      <button class=\"colab-df-convert\" onclick=\"convertToInteractive('df-59b07f04-4361-44e0-a159-347363ff9eab')\"\n",
              "              title=\"Convert this dataframe to an interactive table.\"\n",
              "              style=\"display:none;\">\n",
              "        \n",
              "  <svg xmlns=\"http://www.w3.org/2000/svg\" height=\"24px\"viewBox=\"0 0 24 24\"\n",
              "       width=\"24px\">\n",
              "    <path d=\"M0 0h24v24H0V0z\" fill=\"none\"/>\n",
              "    <path d=\"M18.56 5.44l.94 2.06.94-2.06 2.06-.94-2.06-.94-.94-2.06-.94 2.06-2.06.94zm-11 1L8.5 8.5l.94-2.06 2.06-.94-2.06-.94L8.5 2.5l-.94 2.06-2.06.94zm10 10l.94 2.06.94-2.06 2.06-.94-2.06-.94-.94-2.06-.94 2.06-2.06.94z\"/><path d=\"M17.41 7.96l-1.37-1.37c-.4-.4-.92-.59-1.43-.59-.52 0-1.04.2-1.43.59L10.3 9.45l-7.72 7.72c-.78.78-.78 2.05 0 2.83L4 21.41c.39.39.9.59 1.41.59.51 0 1.02-.2 1.41-.59l7.78-7.78 2.81-2.81c.8-.78.8-2.07 0-2.86zM5.41 20L4 18.59l7.72-7.72 1.47 1.35L5.41 20z\"/>\n",
              "  </svg>\n",
              "      </button>\n",
              "      \n",
              "  <style>\n",
              "    .colab-df-container {\n",
              "      display:flex;\n",
              "      flex-wrap:wrap;\n",
              "      gap: 12px;\n",
              "    }\n",
              "\n",
              "    .colab-df-convert {\n",
              "      background-color: #E8F0FE;\n",
              "      border: none;\n",
              "      border-radius: 50%;\n",
              "      cursor: pointer;\n",
              "      display: none;\n",
              "      fill: #1967D2;\n",
              "      height: 32px;\n",
              "      padding: 0 0 0 0;\n",
              "      width: 32px;\n",
              "    }\n",
              "\n",
              "    .colab-df-convert:hover {\n",
              "      background-color: #E2EBFA;\n",
              "      box-shadow: 0px 1px 2px rgba(60, 64, 67, 0.3), 0px 1px 3px 1px rgba(60, 64, 67, 0.15);\n",
              "      fill: #174EA6;\n",
              "    }\n",
              "\n",
              "    [theme=dark] .colab-df-convert {\n",
              "      background-color: #3B4455;\n",
              "      fill: #D2E3FC;\n",
              "    }\n",
              "\n",
              "    [theme=dark] .colab-df-convert:hover {\n",
              "      background-color: #434B5C;\n",
              "      box-shadow: 0px 1px 3px 1px rgba(0, 0, 0, 0.15);\n",
              "      filter: drop-shadow(0px 1px 2px rgba(0, 0, 0, 0.3));\n",
              "      fill: #FFFFFF;\n",
              "    }\n",
              "  </style>\n",
              "\n",
              "      <script>\n",
              "        const buttonEl =\n",
              "          document.querySelector('#df-59b07f04-4361-44e0-a159-347363ff9eab button.colab-df-convert');\n",
              "        buttonEl.style.display =\n",
              "          google.colab.kernel.accessAllowed ? 'block' : 'none';\n",
              "\n",
              "        async function convertToInteractive(key) {\n",
              "          const element = document.querySelector('#df-59b07f04-4361-44e0-a159-347363ff9eab');\n",
              "          const dataTable =\n",
              "            await google.colab.kernel.invokeFunction('convertToInteractive',\n",
              "                                                     [key], {});\n",
              "          if (!dataTable) return;\n",
              "\n",
              "          const docLinkHtml = 'Like what you see? Visit the ' +\n",
              "            '<a target=\"_blank\" href=https://colab.research.google.com/notebooks/data_table.ipynb>data table notebook</a>'\n",
              "            + ' to learn more about interactive tables.';\n",
              "          element.innerHTML = '';\n",
              "          dataTable['output_type'] = 'display_data';\n",
              "          await google.colab.output.renderOutput(dataTable, element);\n",
              "          const docLink = document.createElement('div');\n",
              "          docLink.innerHTML = docLinkHtml;\n",
              "          element.appendChild(docLink);\n",
              "        }\n",
              "      </script>\n",
              "    </div>\n",
              "  </div>\n",
              "  "
            ]
          },
          "metadata": {},
          "execution_count": 14
        }
      ]
    },
    {
      "cell_type": "code",
      "source": [
        "X_ts"
      ],
      "metadata": {
        "colab": {
          "base_uri": "https://localhost:8080/",
          "height": 423
        },
        "id": "QIwInbb_RRQW",
        "outputId": "7ccee7a6-3fb6-4dc8-8887-10dee5b129fb"
      },
      "execution_count": 15,
      "outputs": [
        {
          "output_type": "execute_result",
          "data": {
            "text/plain": [
              "      Age  NumOfProducts  IsActiveMember\n",
              "2184   40              2               0\n",
              "1795   35              1               1\n",
              "2175   34              2               0\n",
              "9004   33              2               0\n",
              "3484   28              2               1\n",
              "...   ...            ...             ...\n",
              "8441   23              2               0\n",
              "9524   38              1               0\n",
              "1685   20              1               0\n",
              "5946   32              2               0\n",
              "6588   28              2               0\n",
              "\n",
              "[3000 rows x 3 columns]"
            ],
            "text/html": [
              "\n",
              "  <div id=\"df-7aff76b9-f895-448c-ac66-d3940bdab558\">\n",
              "    <div class=\"colab-df-container\">\n",
              "      <div>\n",
              "<style scoped>\n",
              "    .dataframe tbody tr th:only-of-type {\n",
              "        vertical-align: middle;\n",
              "    }\n",
              "\n",
              "    .dataframe tbody tr th {\n",
              "        vertical-align: top;\n",
              "    }\n",
              "\n",
              "    .dataframe thead th {\n",
              "        text-align: right;\n",
              "    }\n",
              "</style>\n",
              "<table border=\"1\" class=\"dataframe\">\n",
              "  <thead>\n",
              "    <tr style=\"text-align: right;\">\n",
              "      <th></th>\n",
              "      <th>Age</th>\n",
              "      <th>NumOfProducts</th>\n",
              "      <th>IsActiveMember</th>\n",
              "    </tr>\n",
              "  </thead>\n",
              "  <tbody>\n",
              "    <tr>\n",
              "      <th>2184</th>\n",
              "      <td>40</td>\n",
              "      <td>2</td>\n",
              "      <td>0</td>\n",
              "    </tr>\n",
              "    <tr>\n",
              "      <th>1795</th>\n",
              "      <td>35</td>\n",
              "      <td>1</td>\n",
              "      <td>1</td>\n",
              "    </tr>\n",
              "    <tr>\n",
              "      <th>2175</th>\n",
              "      <td>34</td>\n",
              "      <td>2</td>\n",
              "      <td>0</td>\n",
              "    </tr>\n",
              "    <tr>\n",
              "      <th>9004</th>\n",
              "      <td>33</td>\n",
              "      <td>2</td>\n",
              "      <td>0</td>\n",
              "    </tr>\n",
              "    <tr>\n",
              "      <th>3484</th>\n",
              "      <td>28</td>\n",
              "      <td>2</td>\n",
              "      <td>1</td>\n",
              "    </tr>\n",
              "    <tr>\n",
              "      <th>...</th>\n",
              "      <td>...</td>\n",
              "      <td>...</td>\n",
              "      <td>...</td>\n",
              "    </tr>\n",
              "    <tr>\n",
              "      <th>8441</th>\n",
              "      <td>23</td>\n",
              "      <td>2</td>\n",
              "      <td>0</td>\n",
              "    </tr>\n",
              "    <tr>\n",
              "      <th>9524</th>\n",
              "      <td>38</td>\n",
              "      <td>1</td>\n",
              "      <td>0</td>\n",
              "    </tr>\n",
              "    <tr>\n",
              "      <th>1685</th>\n",
              "      <td>20</td>\n",
              "      <td>1</td>\n",
              "      <td>0</td>\n",
              "    </tr>\n",
              "    <tr>\n",
              "      <th>5946</th>\n",
              "      <td>32</td>\n",
              "      <td>2</td>\n",
              "      <td>0</td>\n",
              "    </tr>\n",
              "    <tr>\n",
              "      <th>6588</th>\n",
              "      <td>28</td>\n",
              "      <td>2</td>\n",
              "      <td>0</td>\n",
              "    </tr>\n",
              "  </tbody>\n",
              "</table>\n",
              "<p>3000 rows × 3 columns</p>\n",
              "</div>\n",
              "      <button class=\"colab-df-convert\" onclick=\"convertToInteractive('df-7aff76b9-f895-448c-ac66-d3940bdab558')\"\n",
              "              title=\"Convert this dataframe to an interactive table.\"\n",
              "              style=\"display:none;\">\n",
              "        \n",
              "  <svg xmlns=\"http://www.w3.org/2000/svg\" height=\"24px\"viewBox=\"0 0 24 24\"\n",
              "       width=\"24px\">\n",
              "    <path d=\"M0 0h24v24H0V0z\" fill=\"none\"/>\n",
              "    <path d=\"M18.56 5.44l.94 2.06.94-2.06 2.06-.94-2.06-.94-.94-2.06-.94 2.06-2.06.94zm-11 1L8.5 8.5l.94-2.06 2.06-.94-2.06-.94L8.5 2.5l-.94 2.06-2.06.94zm10 10l.94 2.06.94-2.06 2.06-.94-2.06-.94-.94-2.06-.94 2.06-2.06.94z\"/><path d=\"M17.41 7.96l-1.37-1.37c-.4-.4-.92-.59-1.43-.59-.52 0-1.04.2-1.43.59L10.3 9.45l-7.72 7.72c-.78.78-.78 2.05 0 2.83L4 21.41c.39.39.9.59 1.41.59.51 0 1.02-.2 1.41-.59l7.78-7.78 2.81-2.81c.8-.78.8-2.07 0-2.86zM5.41 20L4 18.59l7.72-7.72 1.47 1.35L5.41 20z\"/>\n",
              "  </svg>\n",
              "      </button>\n",
              "      \n",
              "  <style>\n",
              "    .colab-df-container {\n",
              "      display:flex;\n",
              "      flex-wrap:wrap;\n",
              "      gap: 12px;\n",
              "    }\n",
              "\n",
              "    .colab-df-convert {\n",
              "      background-color: #E8F0FE;\n",
              "      border: none;\n",
              "      border-radius: 50%;\n",
              "      cursor: pointer;\n",
              "      display: none;\n",
              "      fill: #1967D2;\n",
              "      height: 32px;\n",
              "      padding: 0 0 0 0;\n",
              "      width: 32px;\n",
              "    }\n",
              "\n",
              "    .colab-df-convert:hover {\n",
              "      background-color: #E2EBFA;\n",
              "      box-shadow: 0px 1px 2px rgba(60, 64, 67, 0.3), 0px 1px 3px 1px rgba(60, 64, 67, 0.15);\n",
              "      fill: #174EA6;\n",
              "    }\n",
              "\n",
              "    [theme=dark] .colab-df-convert {\n",
              "      background-color: #3B4455;\n",
              "      fill: #D2E3FC;\n",
              "    }\n",
              "\n",
              "    [theme=dark] .colab-df-convert:hover {\n",
              "      background-color: #434B5C;\n",
              "      box-shadow: 0px 1px 3px 1px rgba(0, 0, 0, 0.15);\n",
              "      filter: drop-shadow(0px 1px 2px rgba(0, 0, 0, 0.3));\n",
              "      fill: #FFFFFF;\n",
              "    }\n",
              "  </style>\n",
              "\n",
              "      <script>\n",
              "        const buttonEl =\n",
              "          document.querySelector('#df-7aff76b9-f895-448c-ac66-d3940bdab558 button.colab-df-convert');\n",
              "        buttonEl.style.display =\n",
              "          google.colab.kernel.accessAllowed ? 'block' : 'none';\n",
              "\n",
              "        async function convertToInteractive(key) {\n",
              "          const element = document.querySelector('#df-7aff76b9-f895-448c-ac66-d3940bdab558');\n",
              "          const dataTable =\n",
              "            await google.colab.kernel.invokeFunction('convertToInteractive',\n",
              "                                                     [key], {});\n",
              "          if (!dataTable) return;\n",
              "\n",
              "          const docLinkHtml = 'Like what you see? Visit the ' +\n",
              "            '<a target=\"_blank\" href=https://colab.research.google.com/notebooks/data_table.ipynb>data table notebook</a>'\n",
              "            + ' to learn more about interactive tables.';\n",
              "          element.innerHTML = '';\n",
              "          dataTable['output_type'] = 'display_data';\n",
              "          await google.colab.output.renderOutput(dataTable, element);\n",
              "          const docLink = document.createElement('div');\n",
              "          docLink.innerHTML = docLinkHtml;\n",
              "          element.appendChild(docLink);\n",
              "        }\n",
              "      </script>\n",
              "    </div>\n",
              "  </div>\n",
              "  "
            ]
          },
          "metadata": {},
          "execution_count": 15
        }
      ]
    },
    {
      "cell_type": "code",
      "source": [
        "from sklearn.tree import DecisionTreeClassifier\n",
        "from sklearn.model_selection import GridSearchCV\n",
        "\n",
        "params = {\n",
        "    'max_leaf_nodes': [4,8,16,32,64,128,256,512,1024,2048],\n",
        "    'criterion': ['gini','entropy'],\n",
        "}\n",
        "\n",
        "grid = GridSearchCV(\n",
        "    DecisionTreeClassifier(random_state=61658), #Primeiro arg: Modelo\n",
        "    params,                                     #Segundo arg: Parâmetros\n",
        "    cv=10,                                      #Arg `cv`: Qtd de folds\n",
        "    scoring='roc_auc',                          #Arg `scoring`: Métrica\n",
        "    verbose=5, #Arg `verbose`: Mostra na tela\n",
        ")"
      ],
      "metadata": {
        "id": "5cx1A_hdRUVQ"
      },
      "execution_count": 16,
      "outputs": []
    },
    {
      "cell_type": "code",
      "source": [
        "grid"
      ],
      "metadata": {
        "colab": {
          "base_uri": "https://localhost:8080/"
        },
        "id": "ZwX8wVg7RXRQ",
        "outputId": "1c8544fd-f747-49a9-bbc8-2cb984e0be53"
      },
      "execution_count": 17,
      "outputs": [
        {
          "output_type": "execute_result",
          "data": {
            "text/plain": [
              "GridSearchCV(cv=10, estimator=DecisionTreeClassifier(random_state=61658),\n",
              "             param_grid={'criterion': ['gini', 'entropy'],\n",
              "                         'max_leaf_nodes': [4, 8, 16, 32, 64, 128, 256, 512,\n",
              "                                            1024, 2048]},\n",
              "             scoring='roc_auc', verbose=5)"
            ]
          },
          "metadata": {},
          "execution_count": 17
        }
      ]
    },
    {
      "cell_type": "markdown",
      "source": [
        "#Treinar, Árvore de decisão treina rápido:"
      ],
      "metadata": {
        "id": "U6Pw-ggpZbv8"
      }
    },
    {
      "cell_type": "code",
      "source": [
        "grid.fit(X_tr,y_tr)"
      ],
      "metadata": {
        "colab": {
          "base_uri": "https://localhost:8080/"
        },
        "id": "c8lDHp1tRZhJ",
        "outputId": "7897ee67-c843-4dcf-a129-5ba557f19398"
      },
      "execution_count": 18,
      "outputs": [
        {
          "output_type": "stream",
          "name": "stdout",
          "text": [
            "Fitting 10 folds for each of 20 candidates, totalling 200 fits\n",
            "[CV 1/10] END .criterion=gini, max_leaf_nodes=4;, score=0.756 total time=   0.0s\n",
            "[CV 2/10] END .criterion=gini, max_leaf_nodes=4;, score=0.731 total time=   0.0s\n",
            "[CV 3/10] END .criterion=gini, max_leaf_nodes=4;, score=0.756 total time=   0.0s\n",
            "[CV 4/10] END .criterion=gini, max_leaf_nodes=4;, score=0.757 total time=   0.0s\n",
            "[CV 5/10] END .criterion=gini, max_leaf_nodes=4;, score=0.762 total time=   0.0s\n",
            "[CV 6/10] END .criterion=gini, max_leaf_nodes=4;, score=0.738 total time=   0.0s\n",
            "[CV 7/10] END .criterion=gini, max_leaf_nodes=4;, score=0.715 total time=   0.0s\n",
            "[CV 8/10] END .criterion=gini, max_leaf_nodes=4;, score=0.726 total time=   0.0s\n",
            "[CV 9/10] END .criterion=gini, max_leaf_nodes=4;, score=0.730 total time=   0.0s\n",
            "[CV 10/10] END criterion=gini, max_leaf_nodes=4;, score=0.756 total time=   0.0s\n",
            "[CV 1/10] END .criterion=gini, max_leaf_nodes=8;, score=0.818 total time=   0.0s\n",
            "[CV 2/10] END .criterion=gini, max_leaf_nodes=8;, score=0.791 total time=   0.0s\n",
            "[CV 3/10] END .criterion=gini, max_leaf_nodes=8;, score=0.830 total time=   0.0s\n",
            "[CV 4/10] END .criterion=gini, max_leaf_nodes=8;, score=0.833 total time=   0.0s\n",
            "[CV 5/10] END .criterion=gini, max_leaf_nodes=8;, score=0.817 total time=   0.0s\n",
            "[CV 6/10] END .criterion=gini, max_leaf_nodes=8;, score=0.808 total time=   0.0s\n",
            "[CV 7/10] END .criterion=gini, max_leaf_nodes=8;, score=0.798 total time=   0.0s\n",
            "[CV 8/10] END .criterion=gini, max_leaf_nodes=8;, score=0.805 total time=   0.0s\n",
            "[CV 9/10] END .criterion=gini, max_leaf_nodes=8;, score=0.781 total time=   0.0s\n",
            "[CV 10/10] END criterion=gini, max_leaf_nodes=8;, score=0.817 total time=   0.0s\n",
            "[CV 1/10] END criterion=gini, max_leaf_nodes=16;, score=0.825 total time=   0.0s\n",
            "[CV 2/10] END criterion=gini, max_leaf_nodes=16;, score=0.801 total time=   0.0s\n",
            "[CV 3/10] END criterion=gini, max_leaf_nodes=16;, score=0.841 total time=   0.0s\n",
            "[CV 4/10] END criterion=gini, max_leaf_nodes=16;, score=0.858 total time=   0.0s\n",
            "[CV 5/10] END criterion=gini, max_leaf_nodes=16;, score=0.823 total time=   0.0s\n",
            "[CV 6/10] END criterion=gini, max_leaf_nodes=16;, score=0.820 total time=   0.0s\n",
            "[CV 7/10] END criterion=gini, max_leaf_nodes=16;, score=0.807 total time=   0.0s\n",
            "[CV 8/10] END criterion=gini, max_leaf_nodes=16;, score=0.827 total time=   0.0s\n",
            "[CV 9/10] END criterion=gini, max_leaf_nodes=16;, score=0.801 total time=   0.0s\n",
            "[CV 10/10] END criterion=gini, max_leaf_nodes=16;, score=0.843 total time=   0.0s\n",
            "[CV 1/10] END criterion=gini, max_leaf_nodes=32;, score=0.822 total time=   0.0s\n",
            "[CV 2/10] END criterion=gini, max_leaf_nodes=32;, score=0.808 total time=   0.0s\n",
            "[CV 3/10] END criterion=gini, max_leaf_nodes=32;, score=0.849 total time=   0.0s\n",
            "[CV 4/10] END criterion=gini, max_leaf_nodes=32;, score=0.847 total time=   0.0s\n",
            "[CV 5/10] END criterion=gini, max_leaf_nodes=32;, score=0.840 total time=   0.0s\n",
            "[CV 6/10] END criterion=gini, max_leaf_nodes=32;, score=0.817 total time=   0.0s\n",
            "[CV 7/10] END criterion=gini, max_leaf_nodes=32;, score=0.805 total time=   0.0s\n",
            "[CV 8/10] END criterion=gini, max_leaf_nodes=32;, score=0.833 total time=   0.0s\n",
            "[CV 9/10] END criterion=gini, max_leaf_nodes=32;, score=0.803 total time=   0.0s\n",
            "[CV 10/10] END criterion=gini, max_leaf_nodes=32;, score=0.842 total time=   0.0s\n",
            "[CV 1/10] END criterion=gini, max_leaf_nodes=64;, score=0.809 total time=   0.0s\n",
            "[CV 2/10] END criterion=gini, max_leaf_nodes=64;, score=0.805 total time=   0.0s\n",
            "[CV 3/10] END criterion=gini, max_leaf_nodes=64;, score=0.830 total time=   0.0s\n",
            "[CV 4/10] END criterion=gini, max_leaf_nodes=64;, score=0.839 total time=   0.0s\n",
            "[CV 5/10] END criterion=gini, max_leaf_nodes=64;, score=0.844 total time=   0.0s\n",
            "[CV 6/10] END criterion=gini, max_leaf_nodes=64;, score=0.798 total time=   0.0s\n",
            "[CV 7/10] END criterion=gini, max_leaf_nodes=64;, score=0.807 total time=   0.0s\n",
            "[CV 8/10] END criterion=gini, max_leaf_nodes=64;, score=0.826 total time=   0.0s\n",
            "[CV 9/10] END criterion=gini, max_leaf_nodes=64;, score=0.804 total time=   0.0s\n",
            "[CV 10/10] END criterion=gini, max_leaf_nodes=64;, score=0.837 total time=   0.0s\n",
            "[CV 1/10] END criterion=gini, max_leaf_nodes=128;, score=0.807 total time=   0.0s\n",
            "[CV 2/10] END criterion=gini, max_leaf_nodes=128;, score=0.794 total time=   0.0s\n",
            "[CV 3/10] END criterion=gini, max_leaf_nodes=128;, score=0.829 total time=   0.0s\n",
            "[CV 4/10] END criterion=gini, max_leaf_nodes=128;, score=0.834 total time=   0.0s\n",
            "[CV 5/10] END criterion=gini, max_leaf_nodes=128;, score=0.825 total time=   0.0s\n",
            "[CV 6/10] END criterion=gini, max_leaf_nodes=128;, score=0.787 total time=   0.0s\n",
            "[CV 7/10] END criterion=gini, max_leaf_nodes=128;, score=0.816 total time=   0.0s\n",
            "[CV 8/10] END criterion=gini, max_leaf_nodes=128;, score=0.814 total time=   0.0s\n",
            "[CV 9/10] END criterion=gini, max_leaf_nodes=128;, score=0.793 total time=   0.0s\n",
            "[CV 10/10] END criterion=gini, max_leaf_nodes=128;, score=0.825 total time=   0.0s\n",
            "[CV 1/10] END criterion=gini, max_leaf_nodes=256;, score=0.808 total time=   0.0s\n",
            "[CV 2/10] END criterion=gini, max_leaf_nodes=256;, score=0.794 total time=   0.0s\n",
            "[CV 3/10] END criterion=gini, max_leaf_nodes=256;, score=0.830 total time=   0.0s\n",
            "[CV 4/10] END criterion=gini, max_leaf_nodes=256;, score=0.832 total time=   0.0s\n",
            "[CV 5/10] END criterion=gini, max_leaf_nodes=256;, score=0.818 total time=   0.0s\n",
            "[CV 6/10] END criterion=gini, max_leaf_nodes=256;, score=0.773 total time=   0.0s\n",
            "[CV 7/10] END criterion=gini, max_leaf_nodes=256;, score=0.805 total time=   0.0s\n",
            "[CV 8/10] END criterion=gini, max_leaf_nodes=256;, score=0.810 total time=   0.0s\n",
            "[CV 9/10] END criterion=gini, max_leaf_nodes=256;, score=0.783 total time=   0.0s\n",
            "[CV 10/10] END criterion=gini, max_leaf_nodes=256;, score=0.828 total time=   0.0s\n",
            "[CV 1/10] END criterion=gini, max_leaf_nodes=512;, score=0.808 total time=   0.0s\n",
            "[CV 2/10] END criterion=gini, max_leaf_nodes=512;, score=0.794 total time=   0.0s\n",
            "[CV 3/10] END criterion=gini, max_leaf_nodes=512;, score=0.830 total time=   0.0s\n",
            "[CV 4/10] END criterion=gini, max_leaf_nodes=512;, score=0.832 total time=   0.0s\n",
            "[CV 5/10] END criterion=gini, max_leaf_nodes=512;, score=0.818 total time=   0.0s\n",
            "[CV 6/10] END criterion=gini, max_leaf_nodes=512;, score=0.773 total time=   0.0s\n",
            "[CV 7/10] END criterion=gini, max_leaf_nodes=512;, score=0.805 total time=   0.0s\n",
            "[CV 8/10] END criterion=gini, max_leaf_nodes=512;, score=0.810 total time=   0.0s\n",
            "[CV 9/10] END criterion=gini, max_leaf_nodes=512;, score=0.783 total time=   0.0s\n",
            "[CV 10/10] END criterion=gini, max_leaf_nodes=512;, score=0.828 total time=   0.0s\n",
            "[CV 1/10] END criterion=gini, max_leaf_nodes=1024;, score=0.808 total time=   0.0s\n",
            "[CV 2/10] END criterion=gini, max_leaf_nodes=1024;, score=0.794 total time=   0.0s\n",
            "[CV 3/10] END criterion=gini, max_leaf_nodes=1024;, score=0.830 total time=   0.0s\n",
            "[CV 4/10] END criterion=gini, max_leaf_nodes=1024;, score=0.832 total time=   0.0s\n",
            "[CV 5/10] END criterion=gini, max_leaf_nodes=1024;, score=0.818 total time=   0.0s\n",
            "[CV 6/10] END criterion=gini, max_leaf_nodes=1024;, score=0.773 total time=   0.0s\n",
            "[CV 7/10] END criterion=gini, max_leaf_nodes=1024;, score=0.805 total time=   0.0s\n",
            "[CV 8/10] END criterion=gini, max_leaf_nodes=1024;, score=0.810 total time=   0.0s\n",
            "[CV 9/10] END criterion=gini, max_leaf_nodes=1024;, score=0.783 total time=   0.0s\n",
            "[CV 10/10] END criterion=gini, max_leaf_nodes=1024;, score=0.828 total time=   0.0s\n",
            "[CV 1/10] END criterion=gini, max_leaf_nodes=2048;, score=0.808 total time=   0.0s\n",
            "[CV 2/10] END criterion=gini, max_leaf_nodes=2048;, score=0.794 total time=   0.0s\n",
            "[CV 3/10] END criterion=gini, max_leaf_nodes=2048;, score=0.830 total time=   0.0s\n",
            "[CV 4/10] END criterion=gini, max_leaf_nodes=2048;, score=0.832 total time=   0.0s\n",
            "[CV 5/10] END criterion=gini, max_leaf_nodes=2048;, score=0.818 total time=   0.0s\n",
            "[CV 6/10] END criterion=gini, max_leaf_nodes=2048;, score=0.773 total time=   0.0s\n",
            "[CV 7/10] END criterion=gini, max_leaf_nodes=2048;, score=0.805 total time=   0.0s\n",
            "[CV 8/10] END criterion=gini, max_leaf_nodes=2048;, score=0.810 total time=   0.0s\n",
            "[CV 9/10] END criterion=gini, max_leaf_nodes=2048;, score=0.783 total time=   0.0s\n",
            "[CV 10/10] END criterion=gini, max_leaf_nodes=2048;, score=0.828 total time=   0.0s\n",
            "[CV 1/10] END criterion=entropy, max_leaf_nodes=4;, score=0.756 total time=   0.0s\n",
            "[CV 2/10] END criterion=entropy, max_leaf_nodes=4;, score=0.731 total time=   0.0s\n",
            "[CV 3/10] END criterion=entropy, max_leaf_nodes=4;, score=0.756 total time=   0.0s\n",
            "[CV 4/10] END criterion=entropy, max_leaf_nodes=4;, score=0.757 total time=   0.0s\n",
            "[CV 5/10] END criterion=entropy, max_leaf_nodes=4;, score=0.762 total time=   0.0s\n",
            "[CV 6/10] END criterion=entropy, max_leaf_nodes=4;, score=0.735 total time=   0.0s\n",
            "[CV 7/10] END criterion=entropy, max_leaf_nodes=4;, score=0.715 total time=   0.0s\n",
            "[CV 8/10] END criterion=entropy, max_leaf_nodes=4;, score=0.726 total time=   0.0s\n",
            "[CV 9/10] END criterion=entropy, max_leaf_nodes=4;, score=0.730 total time=   0.0s\n",
            "[CV 10/10] END criterion=entropy, max_leaf_nodes=4;, score=0.755 total time=   0.0s\n",
            "[CV 1/10] END criterion=entropy, max_leaf_nodes=8;, score=0.818 total time=   0.0s\n",
            "[CV 2/10] END criterion=entropy, max_leaf_nodes=8;, score=0.790 total time=   0.0s\n",
            "[CV 3/10] END criterion=entropy, max_leaf_nodes=8;, score=0.830 total time=   0.0s\n",
            "[CV 4/10] END criterion=entropy, max_leaf_nodes=8;, score=0.833 total time=   0.0s\n",
            "[CV 5/10] END criterion=entropy, max_leaf_nodes=8;, score=0.817 total time=   0.0s\n",
            "[CV 6/10] END criterion=entropy, max_leaf_nodes=8;, score=0.803 total time=   0.0s\n",
            "[CV 7/10] END criterion=entropy, max_leaf_nodes=8;, score=0.798 total time=   0.0s\n",
            "[CV 8/10] END criterion=entropy, max_leaf_nodes=8;, score=0.805 total time=   0.0s\n",
            "[CV 9/10] END criterion=entropy, max_leaf_nodes=8;, score=0.781 total time=   0.0s\n",
            "[CV 10/10] END criterion=entropy, max_leaf_nodes=8;, score=0.814 total time=   0.0s\n",
            "[CV 1/10] END criterion=entropy, max_leaf_nodes=16;, score=0.828 total time=   0.0s\n",
            "[CV 2/10] END criterion=entropy, max_leaf_nodes=16;, score=0.806 total time=   0.0s\n",
            "[CV 3/10] END criterion=entropy, max_leaf_nodes=16;, score=0.843 total time=   0.0s\n",
            "[CV 4/10] END criterion=entropy, max_leaf_nodes=16;, score=0.861 total time=   0.0s\n",
            "[CV 5/10] END criterion=entropy, max_leaf_nodes=16;, score=0.835 total time=   0.0s\n",
            "[CV 6/10] END criterion=entropy, max_leaf_nodes=16;, score=0.822 total time=   0.0s\n",
            "[CV 7/10] END criterion=entropy, max_leaf_nodes=16;, score=0.806 total time=   0.0s\n",
            "[CV 8/10] END criterion=entropy, max_leaf_nodes=16;, score=0.827 total time=   0.0s\n",
            "[CV 9/10] END criterion=entropy, max_leaf_nodes=16;, score=0.799 total time=   0.0s\n",
            "[CV 10/10] END criterion=entropy, max_leaf_nodes=16;, score=0.831 total time=   0.0s\n",
            "[CV 1/10] END criterion=entropy, max_leaf_nodes=32;, score=0.828 total time=   0.0s\n",
            "[CV 2/10] END criterion=entropy, max_leaf_nodes=32;, score=0.806 total time=   0.0s\n",
            "[CV 3/10] END criterion=entropy, max_leaf_nodes=32;, score=0.849 total time=   0.0s\n",
            "[CV 4/10] END criterion=entropy, max_leaf_nodes=32;, score=0.850 total time=   0.0s\n",
            "[CV 5/10] END criterion=entropy, max_leaf_nodes=32;, score=0.839 total time=   0.0s\n",
            "[CV 6/10] END criterion=entropy, max_leaf_nodes=32;, score=0.821 total time=   0.0s\n",
            "[CV 7/10] END criterion=entropy, max_leaf_nodes=32;, score=0.810 total time=   0.0s\n",
            "[CV 8/10] END criterion=entropy, max_leaf_nodes=32;, score=0.831 total time=   0.0s\n",
            "[CV 9/10] END criterion=entropy, max_leaf_nodes=32;, score=0.802 total time=   0.0s\n",
            "[CV 10/10] END criterion=entropy, max_leaf_nodes=32;, score=0.839 total time=   0.0s\n",
            "[CV 1/10] END criterion=entropy, max_leaf_nodes=64;, score=0.825 total time=   0.0s\n",
            "[CV 2/10] END criterion=entropy, max_leaf_nodes=64;, score=0.803 total time=   0.0s\n",
            "[CV 3/10] END criterion=entropy, max_leaf_nodes=64;, score=0.852 total time=   0.0s\n",
            "[CV 4/10] END criterion=entropy, max_leaf_nodes=64;, score=0.849 total time=   0.0s\n",
            "[CV 5/10] END criterion=entropy, max_leaf_nodes=64;, score=0.846 total time=   0.0s\n",
            "[CV 6/10] END criterion=entropy, max_leaf_nodes=64;, score=0.798 total time=   0.0s\n",
            "[CV 7/10] END criterion=entropy, max_leaf_nodes=64;, score=0.810 total time=   0.0s\n",
            "[CV 8/10] END criterion=entropy, max_leaf_nodes=64;, score=0.827 total time=   0.0s\n",
            "[CV 9/10] END criterion=entropy, max_leaf_nodes=64;, score=0.795 total time=   0.0s\n",
            "[CV 10/10] END criterion=entropy, max_leaf_nodes=64;, score=0.838 total time=   0.0s\n",
            "[CV 1/10] END criterion=entropy, max_leaf_nodes=128;, score=0.811 total time=   0.0s\n",
            "[CV 2/10] END criterion=entropy, max_leaf_nodes=128;, score=0.796 total time=   0.0s\n",
            "[CV 3/10] END criterion=entropy, max_leaf_nodes=128;, score=0.834 total time=   0.0s\n",
            "[CV 4/10] END criterion=entropy, max_leaf_nodes=128;, score=0.833 total time=   0.0s\n",
            "[CV 5/10] END criterion=entropy, max_leaf_nodes=128;, score=0.826 total time=   0.0s\n",
            "[CV 6/10] END criterion=entropy, max_leaf_nodes=128;, score=0.781 total time=   0.0s\n",
            "[CV 7/10] END criterion=entropy, max_leaf_nodes=128;, score=0.812 total time=   0.0s\n",
            "[CV 8/10] END criterion=entropy, max_leaf_nodes=128;, score=0.824 total time=   0.0s\n",
            "[CV 9/10] END criterion=entropy, max_leaf_nodes=128;, score=0.802 total time=   0.0s\n",
            "[CV 10/10] END criterion=entropy, max_leaf_nodes=128;, score=0.829 total time=   0.0s\n",
            "[CV 1/10] END criterion=entropy, max_leaf_nodes=256;, score=0.808 total time=   0.0s\n",
            "[CV 2/10] END criterion=entropy, max_leaf_nodes=256;, score=0.794 total time=   0.0s\n",
            "[CV 3/10] END criterion=entropy, max_leaf_nodes=256;, score=0.830 total time=   0.0s\n",
            "[CV 4/10] END criterion=entropy, max_leaf_nodes=256;, score=0.832 total time=   0.0s\n",
            "[CV 5/10] END criterion=entropy, max_leaf_nodes=256;, score=0.818 total time=   0.0s\n",
            "[CV 6/10] END criterion=entropy, max_leaf_nodes=256;, score=0.773 total time=   0.0s\n",
            "[CV 7/10] END criterion=entropy, max_leaf_nodes=256;, score=0.805 total time=   0.0s\n",
            "[CV 8/10] END criterion=entropy, max_leaf_nodes=256;, score=0.823 total time=   0.0s\n",
            "[CV 9/10] END criterion=entropy, max_leaf_nodes=256;, score=0.783 total time=   0.0s\n",
            "[CV 10/10] END criterion=entropy, max_leaf_nodes=256;, score=0.828 total time=   0.0s\n",
            "[CV 1/10] END criterion=entropy, max_leaf_nodes=512;, score=0.808 total time=   0.0s\n",
            "[CV 2/10] END criterion=entropy, max_leaf_nodes=512;, score=0.794 total time=   0.0s\n",
            "[CV 3/10] END criterion=entropy, max_leaf_nodes=512;, score=0.830 total time=   0.0s\n",
            "[CV 4/10] END criterion=entropy, max_leaf_nodes=512;, score=0.832 total time=   0.0s\n",
            "[CV 5/10] END criterion=entropy, max_leaf_nodes=512;, score=0.818 total time=   0.0s\n",
            "[CV 6/10] END criterion=entropy, max_leaf_nodes=512;, score=0.773 total time=   0.0s\n",
            "[CV 7/10] END criterion=entropy, max_leaf_nodes=512;, score=0.805 total time=   0.0s\n",
            "[CV 8/10] END criterion=entropy, max_leaf_nodes=512;, score=0.823 total time=   0.0s\n",
            "[CV 9/10] END criterion=entropy, max_leaf_nodes=512;, score=0.783 total time=   0.0s\n",
            "[CV 10/10] END criterion=entropy, max_leaf_nodes=512;, score=0.828 total time=   0.0s\n",
            "[CV 1/10] END criterion=entropy, max_leaf_nodes=1024;, score=0.808 total time=   0.0s\n",
            "[CV 2/10] END criterion=entropy, max_leaf_nodes=1024;, score=0.794 total time=   0.0s\n",
            "[CV 3/10] END criterion=entropy, max_leaf_nodes=1024;, score=0.830 total time=   0.0s\n",
            "[CV 4/10] END criterion=entropy, max_leaf_nodes=1024;, score=0.832 total time=   0.0s\n",
            "[CV 5/10] END criterion=entropy, max_leaf_nodes=1024;, score=0.818 total time=   0.0s\n",
            "[CV 6/10] END criterion=entropy, max_leaf_nodes=1024;, score=0.773 total time=   0.0s\n",
            "[CV 7/10] END criterion=entropy, max_leaf_nodes=1024;, score=0.805 total time=   0.0s\n",
            "[CV 8/10] END criterion=entropy, max_leaf_nodes=1024;, score=0.823 total time=   0.0s\n",
            "[CV 9/10] END criterion=entropy, max_leaf_nodes=1024;, score=0.783 total time=   0.0s\n",
            "[CV 10/10] END criterion=entropy, max_leaf_nodes=1024;, score=0.828 total time=   0.0s\n",
            "[CV 1/10] END criterion=entropy, max_leaf_nodes=2048;, score=0.808 total time=   0.0s\n",
            "[CV 2/10] END criterion=entropy, max_leaf_nodes=2048;, score=0.794 total time=   0.0s\n",
            "[CV 3/10] END criterion=entropy, max_leaf_nodes=2048;, score=0.830 total time=   0.0s\n",
            "[CV 4/10] END criterion=entropy, max_leaf_nodes=2048;, score=0.832 total time=   0.0s\n",
            "[CV 5/10] END criterion=entropy, max_leaf_nodes=2048;, score=0.818 total time=   0.0s\n",
            "[CV 6/10] END criterion=entropy, max_leaf_nodes=2048;, score=0.773 total time=   0.0s\n",
            "[CV 7/10] END criterion=entropy, max_leaf_nodes=2048;, score=0.805 total time=   0.0s\n",
            "[CV 8/10] END criterion=entropy, max_leaf_nodes=2048;, score=0.823 total time=   0.0s\n",
            "[CV 9/10] END criterion=entropy, max_leaf_nodes=2048;, score=0.783 total time=   0.0s\n",
            "[CV 10/10] END criterion=entropy, max_leaf_nodes=2048;, score=0.828 total time=   0.0s\n"
          ]
        },
        {
          "output_type": "execute_result",
          "data": {
            "text/plain": [
              "GridSearchCV(cv=10, estimator=DecisionTreeClassifier(random_state=61658),\n",
              "             param_grid={'criterion': ['gini', 'entropy'],\n",
              "                         'max_leaf_nodes': [4, 8, 16, 32, 64, 128, 256, 512,\n",
              "                                            1024, 2048]},\n",
              "             scoring='roc_auc', verbose=5)"
            ]
          },
          "metadata": {},
          "execution_count": 18
        }
      ]
    },
    {
      "cell_type": "code",
      "source": [
        "#Melhor parâmetro\n",
        "grid.best_params_"
      ],
      "metadata": {
        "colab": {
          "base_uri": "https://localhost:8080/"
        },
        "id": "qWkBRuNcReUH",
        "outputId": "b248abb8-40db-4b2a-fb5d-ff8b54ed7a66"
      },
      "execution_count": 19,
      "outputs": [
        {
          "output_type": "execute_result",
          "data": {
            "text/plain": [
              "{'criterion': 'entropy', 'max_leaf_nodes': 32}"
            ]
          },
          "metadata": {},
          "execution_count": 19
        }
      ]
    },
    {
      "cell_type": "code",
      "source": [
        "#melhor score\n",
        "grid.best_score_"
      ],
      "metadata": {
        "colab": {
          "base_uri": "https://localhost:8080/"
        },
        "id": "Ftwy0gBaRgnO",
        "outputId": "b2c8f92f-b775-4be6-ac0f-9842b452529f"
      },
      "execution_count": 20,
      "outputs": [
        {
          "output_type": "execute_result",
          "data": {
            "text/plain": [
              "0.8275774006882053"
            ]
          },
          "metadata": {},
          "execution_count": 20
        }
      ]
    },
    {
      "cell_type": "code",
      "source": [
        "#Conjunto teste\n",
        "\n",
        "#escore 0 e 1\n",
        "y_pred = grid.predict_proba(X_ts)[:,1]\n",
        "y_pred"
      ],
      "metadata": {
        "colab": {
          "base_uri": "https://localhost:8080/"
        },
        "id": "-BuTWQBIRhnV",
        "outputId": "01b0baa5-39fd-424d-aeba-49ac8bf51919"
      },
      "execution_count": 21,
      "outputs": [
        {
          "output_type": "execute_result",
          "data": {
            "text/plain": [
              "array([0.07399577, 0.13777778, 0.03446502, ..., 0.13544018, 0.03446502,\n",
              "       0.03446502])"
            ]
          },
          "metadata": {},
          "execution_count": 21
        }
      ]
    },
    {
      "cell_type": "code",
      "source": [
        "#Curva ROC\n",
        "from sklearn.metrics import roc_curve\n",
        "\n",
        "#Dados reais de teste e predição, retorna taxa de falso posiivo, verdadeiro positivo e limiares para testar\n",
        "fpr, tpr, ths = roc_curve(y_ts, y_pred)\n",
        "\n",
        "plt.figure(figsize=(6,6))\n",
        "plt.plot(fpr, tpr)\n",
        "plt.plot((0,1),(0,1),'k--')"
      ],
      "metadata": {
        "colab": {
          "base_uri": "https://localhost:8080/",
          "height": 392
        },
        "id": "Juq1tjVuRkpL",
        "outputId": "f263a72e-c1f6-4f98-82c8-9cab5899999a"
      },
      "execution_count": 22,
      "outputs": [
        {
          "output_type": "execute_result",
          "data": {
            "text/plain": [
              "[<matplotlib.lines.Line2D at 0x7f2136d61790>]"
            ]
          },
          "metadata": {},
          "execution_count": 22
        },
        {
          "output_type": "display_data",
          "data": {
            "text/plain": [
              "<Figure size 432x432 with 1 Axes>"
            ],
            "image/png": "[encoded data removed]"
          },
          "metadata": {
            "needs_background": "light"
          }
        }
      ]
    },
    {
      "cell_type": "code",
      "source": [
        "#AUC\n",
        "from sklearn.metrics import roc_curve\n",
        "\n",
        "fpr, tpr, ths = roc_curve(y_ts, y_pred)\n",
        "\n",
        "plt.figure(figsize=(6,6))\n",
        "plt.plot(fpr, tpr)\n",
        "#preenchido\n",
        "#transparência\n",
        "plt.fill_between(fpr, tpr,alpha=.3)\n",
        "plt.plot((0,1),(0,1),'k--')"
      ],
      "metadata": {
        "colab": {
          "base_uri": "https://localhost:8080/",
          "height": 392
        },
        "id": "DxJjDczwRnuR",
        "outputId": "a13cfc55-d795-48d9-c24b-1e9798fd238c"
      },
      "execution_count": 23,
      "outputs": [
        {
          "output_type": "execute_result",
          "data": {
            "text/plain": [
              "[<matplotlib.lines.Line2D at 0x7f2136d28280>]"
            ]
          },
          "metadata": {},
          "execution_count": 23
        },
        {
          "output_type": "display_data",
          "data": {
            "text/plain": [
              "<Figure size 432x432 with 1 Axes>"
            ],
            "image/png": "[encoded data removed]"
          },
          "metadata": {
            "needs_background": "light"
          }
        }
      ]
    },
    {
      "cell_type": "code",
      "source": [
        "from sklearn.metrics import roc_auc_score\n",
        "#conjunto está generalizando bem os dados\n",
        "roc_auc_score(y_ts, y_pred)"
      ],
      "metadata": {
        "colab": {
          "base_uri": "https://localhost:8080/"
        },
        "id": "ygfJd-J8Rsyx",
        "outputId": "a5838c6f-2c73-44a2-9d26-f931639e7dc6"
      },
      "execution_count": 24,
      "outputs": [
        {
          "output_type": "execute_result",
          "data": {
            "text/plain": [
              "0.8266989583333333"
            ]
          },
          "metadata": {},
          "execution_count": 24
        }
      ]
    },
    {
      "cell_type": "code",
      "source": [
        "grid.best_score_"
      ],
      "metadata": {
        "colab": {
          "base_uri": "https://localhost:8080/"
        },
        "id": "Aq3aMhNbRt3P",
        "outputId": "a94808e6-a998-405a-e9b1-ce797f033724"
      },
      "execution_count": 25,
      "outputs": [
        {
          "output_type": "execute_result",
          "data": {
            "text/plain": [
              "0.8275774006882053"
            ]
          },
          "metadata": {},
          "execution_count": 25
        }
      ]
    },
    {
      "cell_type": "code",
      "source": [
        "from sklearn.metrics import roc_curve\n",
        "#No conjunto de treino\n",
        "fpr, tpr, ths = roc_curve(y_ts, y_pred)\n",
        "\n",
        "plt.figure(figsize=(6,6))\n",
        "plt.plot(fpr, tpr,label='Teste')\n",
        "plt.plot((0,1),(0,1),'k--')\n",
        "\n",
        "fpr2, tpr2, ths2 = roc_curve(y_tr, grid.predict_proba(X_tr)[:,1])\n",
        "\n",
        "plt.plot(fpr2, tpr2, label='Treino',color='r')\n",
        "\n",
        "plt.legend(fontsize=16)\n",
        "#No treino fica um pouco melhor, bom que não fez overthinking"
      ],
      "metadata": {
        "colab": {
          "base_uri": "https://localhost:8080/",
          "height": 392
        },
        "id": "Pwgzkx3PRwBd",
        "outputId": "d62c6c15-8819-4d8d-f5b5-94bb991e0799"
      },
      "execution_count": 26,
      "outputs": [
        {
          "output_type": "execute_result",
          "data": {
            "text/plain": [
              "<matplotlib.legend.Legend at 0x7f2136c42e80>"
            ]
          },
          "metadata": {},
          "execution_count": 26
        },
        {
          "output_type": "display_data",
          "data": {
            "text/plain": [
              "<Figure size 432x432 with 1 Axes>"
            ],
            "image/png": "[encoded data removed]"
          },
          "metadata": {
            "needs_background": "light"
          }
        }
      ]
    },
    {
      "cell_type": "code",
      "source": [
        "grid"
      ],
      "metadata": {
        "colab": {
          "base_uri": "https://localhost:8080/"
        },
        "id": "a5qH-ILaRzMY",
        "outputId": "4e5e2fe9-2f79-4ef3-e110-96a4abdd2d55"
      },
      "execution_count": 27,
      "outputs": [
        {
          "output_type": "execute_result",
          "data": {
            "text/plain": [
              "GridSearchCV(cv=10, estimator=DecisionTreeClassifier(random_state=61658),\n",
              "             param_grid={'criterion': ['gini', 'entropy'],\n",
              "                         'max_leaf_nodes': [4, 8, 16, 32, 64, 128, 256, 512,\n",
              "                                            1024, 2048]},\n",
              "             scoring='roc_auc', verbose=5)"
            ]
          },
          "metadata": {},
          "execution_count": 27
        }
      ]
    },
    {
      "cell_type": "code",
      "source": [
        "grid.best_estimator_"
      ],
      "metadata": {
        "colab": {
          "base_uri": "https://localhost:8080/"
        },
        "id": "s0e2iyxrR2T0",
        "outputId": "53c8c248-0381-4132-ee71-54dc7c1cd4be"
      },
      "execution_count": 33,
      "outputs": [
        {
          "output_type": "execute_result",
          "data": {
            "text/plain": [
              "DecisionTreeClassifier(criterion='entropy', max_leaf_nodes=32,\n",
              "                       random_state=61658)"
            ]
          },
          "metadata": {},
          "execution_count": 33
        }
      ]
    },
    {
      "cell_type": "code",
      "source": [
        "from sklearn.tree import plot_tree\n",
        "#Acessar a ávore\n",
        "plot_tree(grid.best_estimator_);"
      ],
      "metadata": {
        "colab": {
          "base_uri": "https://localhost:8080/",
          "height": 248
        },
        "id": "1ynkgWWMR4xa",
        "outputId": "03f33d3d-759d-43e7-e152-ac6bca7b3e73"
      },
      "execution_count": 34,
      "outputs": [
        {
          "output_type": "display_data",
          "data": {
            "text/plain": [
              "<Figure size 432x288 with 1 Axes>"
            ],
            "image/png": "[encoded data removed]"
          },
          "metadata": {
            "needs_background": "light"
          }
        }
      ]
    },
    {
      "cell_type": "code",
      "source": [
        "plt.figure(figsize=(15,10))\n",
        "plot_tree(grid.best_estimator_, max_depth =2);"
      ],
      "metadata": {
        "colab": {
          "base_uri": "https://localhost:8080/",
          "height": 429
        },
        "id": "LJwr6oaOdVem",
        "outputId": "cf412df2-309e-42da-839e-569821b70494"
      },
      "execution_count": 36,
      "outputs": [
        {
          "output_type": "display_data",
          "data": {
            "text/plain": [
              "<Figure size 1080x720 with 1 Axes>"
            ],
            "image/png": "[encoded data removed]"
          },
          "metadata": {
            "needs_background": "light"
          }
        }
      ]
    },
    {
      "cell_type": "code",
      "source": [
        "X_tr"
      ],
      "metadata": {
        "colab": {
          "base_uri": "https://localhost:8080/",
          "height": 423
        },
        "id": "-I7GAewcR7AN",
        "outputId": "ab9337ae-ef52-49cf-f55d-835b7a1a1def"
      },
      "execution_count": 29,
      "outputs": [
        {
          "output_type": "execute_result",
          "data": {
            "text/plain": [
              "      Age  NumOfProducts  IsActiveMember\n",
              "9057   33              2               1\n",
              "81     32              1               0\n",
              "3433   37              1               0\n",
              "1768   28              2               0\n",
              "1888   60              2               1\n",
              "...   ...            ...             ...\n",
              "4368   33              1               0\n",
              "9637   31              1               1\n",
              "8675   54              1               0\n",
              "8806   38              2               1\n",
              "3836   49              3               1\n",
              "\n",
              "[7000 rows x 3 columns]"
            ],
            "text/html": [
              "\n",
              "  <div id=\"df-9bec4d9b-7e53-444d-877e-79958f6d5613\">\n",
              "    <div class=\"colab-df-container\">\n",
              "      <div>\n",
              "<style scoped>\n",
              "    .dataframe tbody tr th:only-of-type {\n",
              "        vertical-align: middle;\n",
              "    }\n",
              "\n",
              "    .dataframe tbody tr th {\n",
              "        vertical-align: top;\n",
              "    }\n",
              "\n",
              "    .dataframe thead th {\n",
              "        text-align: right;\n",
              "    }\n",
              "</style>\n",
              "<table border=\"1\" class=\"dataframe\">\n",
              "  <thead>\n",
              "    <tr style=\"text-align: right;\">\n",
              "      <th></th>\n",
              "      <th>Age</th>\n",
              "      <th>NumOfProducts</th>\n",
              "      <th>IsActiveMember</th>\n",
              "    </tr>\n",
              "  </thead>\n",
              "  <tbody>\n",
              "    <tr>\n",
              "      <th>9057</th>\n",
              "      <td>33</td>\n",
              "      <td>2</td>\n",
              "      <td>1</td>\n",
              "    </tr>\n",
              "    <tr>\n",
              "      <th>81</th>\n",
              "      <td>32</td>\n",
              "      <td>1</td>\n",
              "      <td>0</td>\n",
              "    </tr>\n",
              "    <tr>\n",
              "      <th>3433</th>\n",
              "      <td>37</td>\n",
              "      <td>1</td>\n",
              "      <td>0</td>\n",
              "    </tr>\n",
              "    <tr>\n",
              "      <th>1768</th>\n",
              "      <td>28</td>\n",
              "      <td>2</td>\n",
              "      <td>0</td>\n",
              "    </tr>\n",
              "    <tr>\n",
              "      <th>1888</th>\n",
              "      <td>60</td>\n",
              "      <td>2</td>\n",
              "      <td>1</td>\n",
              "    </tr>\n",
              "    <tr>\n",
              "      <th>...</th>\n",
              "      <td>...</td>\n",
              "      <td>...</td>\n",
              "      <td>...</td>\n",
              "    </tr>\n",
              "    <tr>\n",
              "      <th>4368</th>\n",
              "      <td>33</td>\n",
              "      <td>1</td>\n",
              "      <td>0</td>\n",
              "    </tr>\n",
              "    <tr>\n",
              "      <th>9637</th>\n",
              "      <td>31</td>\n",
              "      <td>1</td>\n",
              "      <td>1</td>\n",
              "    </tr>\n",
              "    <tr>\n",
              "      <th>8675</th>\n",
              "      <td>54</td>\n",
              "      <td>1</td>\n",
              "      <td>0</td>\n",
              "    </tr>\n",
              "    <tr>\n",
              "      <th>8806</th>\n",
              "      <td>38</td>\n",
              "      <td>2</td>\n",
              "      <td>1</td>\n",
              "    </tr>\n",
              "    <tr>\n",
              "      <th>3836</th>\n",
              "      <td>49</td>\n",
              "      <td>3</td>\n",
              "      <td>1</td>\n",
              "    </tr>\n",
              "  </tbody>\n",
              "</table>\n",
              "<p>7000 rows × 3 columns</p>\n",
              "</div>\n",
              "      <button class=\"colab-df-convert\" onclick=\"convertToInteractive('df-9bec4d9b-7e53-444d-877e-79958f6d5613')\"\n",
              "              title=\"Convert this dataframe to an interactive table.\"\n",
              "              style=\"display:none;\">\n",
              "        \n",
              "  <svg xmlns=\"http://www.w3.org/2000/svg\" height=\"24px\"viewBox=\"0 0 24 24\"\n",
              "       width=\"24px\">\n",
              "    <path d=\"M0 0h24v24H0V0z\" fill=\"none\"/>\n",
              "    <path d=\"M18.56 5.44l.94 2.06.94-2.06 2.06-.94-2.06-.94-.94-2.06-.94 2.06-2.06.94zm-11 1L8.5 8.5l.94-2.06 2.06-.94-2.06-.94L8.5 2.5l-.94 2.06-2.06.94zm10 10l.94 2.06.94-2.06 2.06-.94-2.06-.94-.94-2.06-.94 2.06-2.06.94z\"/><path d=\"M17.41 7.96l-1.37-1.37c-.4-.4-.92-.59-1.43-.59-.52 0-1.04.2-1.43.59L10.3 9.45l-7.72 7.72c-.78.78-.78 2.05 0 2.83L4 21.41c.39.39.9.59 1.41.59.51 0 1.02-.2 1.41-.59l7.78-7.78 2.81-2.81c.8-.78.8-2.07 0-2.86zM5.41 20L4 18.59l7.72-7.72 1.47 1.35L5.41 20z\"/>\n",
              "  </svg>\n",
              "      </button>\n",
              "      \n",
              "  <style>\n",
              "    .colab-df-container {\n",
              "      display:flex;\n",
              "      flex-wrap:wrap;\n",
              "      gap: 12px;\n",
              "    }\n",
              "\n",
              "    .colab-df-convert {\n",
              "      background-color: #E8F0FE;\n",
              "      border: none;\n",
              "      border-radius: 50%;\n",
              "      cursor: pointer;\n",
              "      display: none;\n",
              "      fill: #1967D2;\n",
              "      height: 32px;\n",
              "      padding: 0 0 0 0;\n",
              "      width: 32px;\n",
              "    }\n",
              "\n",
              "    .colab-df-convert:hover {\n",
              "      background-color: #E2EBFA;\n",
              "      box-shadow: 0px 1px 2px rgba(60, 64, 67, 0.3), 0px 1px 3px 1px rgba(60, 64, 67, 0.15);\n",
              "      fill: #174EA6;\n",
              "    }\n",
              "\n",
              "    [theme=dark] .colab-df-convert {\n",
              "      background-color: #3B4455;\n",
              "      fill: #D2E3FC;\n",
              "    }\n",
              "\n",
              "    [theme=dark] .colab-df-convert:hover {\n",
              "      background-color: #434B5C;\n",
              "      box-shadow: 0px 1px 3px 1px rgba(0, 0, 0, 0.15);\n",
              "      filter: drop-shadow(0px 1px 2px rgba(0, 0, 0, 0.3));\n",
              "      fill: #FFFFFF;\n",
              "    }\n",
              "  </style>\n",
              "\n",
              "      <script>\n",
              "        const buttonEl =\n",
              "          document.querySelector('#df-9bec4d9b-7e53-444d-877e-79958f6d5613 button.colab-df-convert');\n",
              "        buttonEl.style.display =\n",
              "          google.colab.kernel.accessAllowed ? 'block' : 'none';\n",
              "\n",
              "        async function convertToInteractive(key) {\n",
              "          const element = document.querySelector('#df-9bec4d9b-7e53-444d-877e-79958f6d5613');\n",
              "          const dataTable =\n",
              "            await google.colab.kernel.invokeFunction('convertToInteractive',\n",
              "                                                     [key], {});\n",
              "          if (!dataTable) return;\n",
              "\n",
              "          const docLinkHtml = 'Like what you see? Visit the ' +\n",
              "            '<a target=\"_blank\" href=https://colab.research.google.com/notebooks/data_table.ipynb>data table notebook</a>'\n",
              "            + ' to learn more about interactive tables.';\n",
              "          element.innerHTML = '';\n",
              "          dataTable['output_type'] = 'display_data';\n",
              "          await google.colab.output.renderOutput(dataTable, element);\n",
              "          const docLink = document.createElement('div');\n",
              "          docLink.innerHTML = docLinkHtml;\n",
              "          element.appendChild(docLink);\n",
              "        }\n",
              "      </script>\n",
              "    </div>\n",
              "  </div>\n",
              "  "
            ]
          },
          "metadata": {},
          "execution_count": 29
        }
      ]
    },
    {
      "cell_type": "code",
      "source": [
        "X_tr.columns"
      ],
      "metadata": {
        "colab": {
          "base_uri": "https://localhost:8080/"
        },
        "id": "sz-4KnOoSA0X",
        "outputId": "b2a20b32-1bd4-4e47-e980-e3e94fdffdbf"
      },
      "execution_count": 31,
      "outputs": [
        {
          "output_type": "execute_result",
          "data": {
            "text/plain": [
              "Index(['Age', 'NumOfProducts', 'IsActiveMember'], dtype='object')"
            ]
          },
          "metadata": {},
          "execution_count": 31
        }
      ]
    },
    {
      "cell_type": "code",
      "source": [
        "plt.figure(figsize=(15,10))\n",
        "plot_tree(grid.best_estimator_, max_depth=2,\n",
        "          feature_names=X_tr.columns, filled=True,\n",
        "         );"
      ],
      "metadata": {
        "colab": {
          "base_uri": "https://localhost:8080/",
          "height": 429
        },
        "id": "WDsdTHreSDgB",
        "outputId": "392d7250-9cf9-47b7-9a92-d84ec020f0d1"
      },
      "execution_count": 32,
      "outputs": [
        {
          "output_type": "display_data",
          "data": {
            "text/plain": [
              "<Figure size 1080x720 with 1 Axes>"
            ],
            "image/png": "[encoded data removed]"
          },
          "metadata": {
            "needs_background": "light"
          }
        }
      ]
    }
  ]
}